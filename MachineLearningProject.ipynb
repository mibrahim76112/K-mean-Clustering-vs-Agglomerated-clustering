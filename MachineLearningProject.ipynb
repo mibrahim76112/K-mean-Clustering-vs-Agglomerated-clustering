{
  "nbformat": 4,
  "nbformat_minor": 0,
  "metadata": {
    "colab": {
      "provenance": []
    },
    "kernelspec": {
      "name": "python3",
      "display_name": "Python 3"
    },
    "language_info": {
      "name": "python"
    }
  },
  "cells": [
    {
      "cell_type": "markdown",
      "source": [
        "### **Machine Learning for Online Shoppers Intention Dataset**"
      ],
      "metadata": {
        "id": "KQ2coa2q6zmt"
      }
    },
    {
      "cell_type": "markdown",
      "source": [
        "## **Importing all Libraries**"
      ],
      "metadata": {
        "id": "5hidrBAK7BP-"
      }
    },
    {
      "cell_type": "code",
      "execution_count": 98,
      "metadata": {
        "id": "LYYvz5e2Qr8m"
      },
      "outputs": [],
      "source": [
        "import pandas as pd\n",
        "import numpy as np\n",
        "from sklearn.cluster import KMeans\n",
        "from sklearn.cluster import AgglomerativeClustering\n",
        "from sklearn import preprocessing\n",
        "import matplotlib.pyplot as plt\n",
        "import seaborn as sns\n",
        "import plotly as py\n",
        "import plotly.graph_objs as go"
      ]
    },
    {
      "cell_type": "markdown",
      "source": [
        "## **Calling the csv file stored on Google Colab**"
      ],
      "metadata": {
        "id": "milDlUy37HGO"
      }
    },
    {
      "cell_type": "code",
      "source": [
        "#reading the csv file from notebook\n",
        "df = pd.read_csv('/content/online_shoppers_intention.csv')\n",
        "df = pd.DataFrame(df)\n",
        "print(df)"
      ],
      "metadata": {
        "id": "psVkNBj-Q946"
      },
      "execution_count": null,
      "outputs": []
    },
    {
      "cell_type": "code",
      "source": [
        "df.groupby(['Month'])['Revenue'].count()\n",
        "df.groupby(['Month'])['Revenue'].mean()"
      ],
      "metadata": {
        "colab": {
          "base_uri": "https://localhost:8080/"
        },
        "id": "bkvzlPXFQ9sP",
        "outputId": "93998dd7-e70c-47a9-a8ff-1e0126db29df"
      },
      "execution_count": 100,
      "outputs": [
        {
          "output_type": "execute_result",
          "data": {
            "text/plain": [
              "Month\n",
              "Aug     0.175520\n",
              "Dec     0.125072\n",
              "Feb     0.016304\n",
              "Jul     0.152778\n",
              "June    0.100694\n",
              "Mar     0.100682\n",
              "May     0.108502\n",
              "Nov     0.253502\n",
              "Oct     0.209472\n",
              "Sep     0.191964\n",
              "Name: Revenue, dtype: float64"
            ]
          },
          "metadata": {},
          "execution_count": 100
        }
      ]
    },
    {
      "cell_type": "markdown",
      "source": [
        "## **Applying mean encoding for month and visitor type and Data Preprocessing**"
      ],
      "metadata": {
        "id": "HU-EVnU777_G"
      }
    },
    {
      "cell_type": "code",
      "source": [
        "Mean_encoded_subject = df.groupby(['Month'])['Revenue'].mean().to_dict()\n",
        "df['Month'] = df['Month'].map(Mean_encoded_subject)\n",
        "\n",
        "Mean_encoded_subject = df.groupby(['VisitorType'])['Revenue'].mean().to_dict()\n",
        "df['VisitorType'] = df['VisitorType'].map(Mean_encoded_subject)\n",
        "\n",
        "df['Weekend'] = df['Weekend'].astype(int)\n",
        "df['Revenue'] = df['Revenue'].astype(int)\n",
        "\n",
        "print(df)"
      ],
      "metadata": {
        "id": "MfEPIvLVRfnm"
      },
      "execution_count": null,
      "outputs": []
    },
    {
      "cell_type": "markdown",
      "source": [
        "## **Deploying K means Clustering Algorithm**"
      ],
      "metadata": {
        "id": "O_ApNYpW8nmE"
      }
    },
    {
      "cell_type": "code",
      "source": [
        "X = df.drop(columns=['Revenue'])\n",
        "X = preprocessing.normalize(X)\n",
        "\n",
        "# Initialize KMeans model with 2 clusters\n",
        "kmeans = KMeans(n_clusters=2, random_state = 0, n_init='auto')\n",
        "\n",
        "# Fit KMeans model to the data\n",
        "kmeans.fit(X)\n",
        "\n",
        "# Predict cluster labels\n",
        "labels = kmeans.labels_\n",
        "\n",
        "# Add cluster labels to a copy of the dataframe\n",
        "df_with_2clusters = df.copy()\n",
        "df_with_2clusters['Cluster'] = labels\n",
        "\n",
        "# Filter data based on cluster labels\n",
        "C1 = df_with_2clusters[df_with_2clusters['Cluster'] == 0]\n",
        "C2 = df_with_2clusters[df_with_2clusters['Cluster'] == 1]"
      ],
      "metadata": {
        "id": "4Pz1RBlCXjZ3"
      },
      "execution_count": 102,
      "outputs": []
    },
    {
      "cell_type": "code",
      "source": [
        "#Adding the K=2 clustered data in the data table\n",
        "df['Cluster K=2'] = labels"
      ],
      "metadata": {
        "id": "5NtRXYQsmskM"
      },
      "execution_count": 103,
      "outputs": []
    },
    {
      "cell_type": "code",
      "source": [
        "X = df.drop(columns=['Revenue'])\n",
        "X = preprocessing.normalize(X)\n",
        "\n",
        "# Initialize KMeans model with 4 clusters\n",
        "kmeans = KMeans(n_clusters=4, random_state = 0, n_init='auto')\n",
        "\n",
        "# Fit KMeans model to the data\n",
        "kmeans.fit(X)\n",
        "\n",
        "# Predict cluster labels\n",
        "labels = kmeans.labels_\n",
        "\n",
        "# Add cluster labels to a copy of the dataframe\n",
        "df_with_2clusters = df.copy()\n",
        "df_with_2clusters['Cluster'] = labels\n",
        "\n",
        "# Filter data based on all 4 cluster labels\n",
        "C1 = df_with_2clusters[df_with_2clusters['Cluster'] == 0]\n",
        "C2 = df_with_2clusters[df_with_2clusters['Cluster'] == 1]\n",
        "C3 = df_with_2clusters[df_with_2clusters['Cluster'] == 2]\n",
        "C4 = df_with_2clusters[df_with_2clusters['Cluster'] == 3]"
      ],
      "metadata": {
        "id": "XzCpcaEhloy_"
      },
      "execution_count": 104,
      "outputs": []
    },
    {
      "cell_type": "code",
      "source": [
        "#Adding the K=4 clustered data in the data table\n",
        "df['Cluster K=4'] = labels"
      ],
      "metadata": {
        "id": "recTl25El4Ol"
      },
      "execution_count": 105,
      "outputs": []
    },
    {
      "cell_type": "code",
      "source": [
        "#You can now observe the updated data with K=2 and 4 values\n",
        "print(df)"
      ],
      "metadata": {
        "colab": {
          "base_uri": "https://localhost:8080/"
        },
        "id": "yYgJvy1x89B_",
        "outputId": "d56ecc68-359b-499f-d77e-3e22c09e9f43"
      },
      "execution_count": 106,
      "outputs": [
        {
          "output_type": "stream",
          "name": "stdout",
          "text": [
            "       Administrative  Administrative_Duration  Informational  \\\n",
            "0                   0                      0.0              0   \n",
            "1                   0                      0.0              0   \n",
            "2                   0                      0.0              0   \n",
            "3                   0                      0.0              0   \n",
            "4                   0                      0.0              0   \n",
            "...               ...                      ...            ...   \n",
            "12325               3                    145.0              0   \n",
            "12326               0                      0.0              0   \n",
            "12327               0                      0.0              0   \n",
            "12328               4                     75.0              0   \n",
            "12329               0                      0.0              0   \n",
            "\n",
            "       Informational_Duration  ProductRelated  ProductRelated_Duration  \\\n",
            "0                         0.0               1                 0.000000   \n",
            "1                         0.0               2                64.000000   \n",
            "2                         0.0               1                 0.000000   \n",
            "3                         0.0               2                 2.666667   \n",
            "4                         0.0              10               627.500000   \n",
            "...                       ...             ...                      ...   \n",
            "12325                     0.0              53              1783.791667   \n",
            "12326                     0.0               5               465.750000   \n",
            "12327                     0.0               6               184.250000   \n",
            "12328                     0.0              15               346.000000   \n",
            "12329                     0.0               3                21.250000   \n",
            "\n",
            "       BounceRates  ExitRates  PageValues  SpecialDay     Month  \\\n",
            "0         0.200000   0.200000    0.000000         0.0  0.016304   \n",
            "1         0.000000   0.100000    0.000000         0.0  0.016304   \n",
            "2         0.200000   0.200000    0.000000         0.0  0.016304   \n",
            "3         0.050000   0.140000    0.000000         0.0  0.016304   \n",
            "4         0.020000   0.050000    0.000000         0.0  0.016304   \n",
            "...            ...        ...         ...         ...       ...   \n",
            "12325     0.007143   0.029031   12.241717         0.0  0.125072   \n",
            "12326     0.000000   0.021333    0.000000         0.0  0.253502   \n",
            "12327     0.083333   0.086667    0.000000         0.0  0.253502   \n",
            "12328     0.000000   0.021053    0.000000         0.0  0.253502   \n",
            "12329     0.000000   0.066667    0.000000         0.0  0.253502   \n",
            "\n",
            "       OperatingSystems  Browser  Region  TrafficType  VisitorType  Weekend  \\\n",
            "0                     1        1       1            1     0.139323        0   \n",
            "1                     2        2       1            2     0.139323        0   \n",
            "2                     4        1       9            3     0.139323        0   \n",
            "3                     3        2       2            4     0.139323        0   \n",
            "4                     3        3       1            4     0.139323        1   \n",
            "...                 ...      ...     ...          ...          ...      ...   \n",
            "12325                 4        6       1            1     0.139323        1   \n",
            "12326                 3        2       1            8     0.139323        1   \n",
            "12327                 3        2       1           13     0.139323        1   \n",
            "12328                 2        2       3           11     0.139323        0   \n",
            "12329                 3        2       1            2     0.249115        1   \n",
            "\n",
            "       Revenue  Cluster K=2  Cluster K=4  \n",
            "0            0            1            1  \n",
            "1            0            0            0  \n",
            "2            0            1            1  \n",
            "3            0            1            1  \n",
            "4            0            0            0  \n",
            "...        ...          ...          ...  \n",
            "12325        0            0            0  \n",
            "12326        0            0            0  \n",
            "12327        0            0            0  \n",
            "12328        0            0            3  \n",
            "12329        0            0            0  \n",
            "\n",
            "[12330 rows x 20 columns]\n"
          ]
        }
      ]
    },
    {
      "cell_type": "markdown",
      "source": [
        "## **Performance Measure for K Means Clustering**"
      ],
      "metadata": {
        "id": "-mIlY6nD9RVF"
      }
    },
    {
      "cell_type": "code",
      "source": [
        "labels2 = df['Cluster K=2']\n",
        "labels4 = df['Cluster K=4']\n",
        "\n",
        "#This value is 2(S+D)\n",
        "same_cluster_count = sum(labels2 == labels4)\n",
        "\n",
        "#This value is m(m-1)\n",
        "switched_labels_count = len(labels2) - same_cluster_count\n",
        "\n",
        "#Computing Rand Index\n",
        "RI_Kmeans = same_cluster_count / (same_cluster_count + switched_labels_count)"
      ],
      "metadata": {
        "id": "Uq7Jk74OnS1X"
      },
      "execution_count": 107,
      "outputs": []
    },
    {
      "cell_type": "markdown",
      "source": [
        "## **Deploying Agglomerative Clustering Algorithm**"
      ],
      "metadata": {
        "id": "F2FXTJzy9ioL"
      }
    },
    {
      "cell_type": "code",
      "source": [
        "X = df.drop(columns=['Revenue'])\n",
        "X = preprocessing.normalize(X)\n",
        "\n",
        "# Initialize Agglomerative Clustering model with 2 clusters\n",
        "AClus = AgglomerativeClustering(n_clusters=2)\n",
        "\n",
        "# Fit the model to the data\n",
        "AClus.fit(X)\n",
        "\n",
        "# Predict cluster labels\n",
        "labels = AClus.labels_\n",
        "\n",
        "# Add cluster labels to a copy of the dataframe\n",
        "df_with_2clusters = df.copy()\n",
        "df_with_2clusters['Cluster'] = labels\n",
        "\n",
        "df['Agglomerative Cluster K=2'] = labels"
      ],
      "metadata": {
        "id": "oiWXrvOiunrR"
      },
      "execution_count": 108,
      "outputs": []
    },
    {
      "cell_type": "code",
      "source": [
        "X = df.drop(columns=['Revenue'])\n",
        "X = preprocessing.normalize(X)\n",
        "\n",
        "# Initialize Agglomerative Clustering model with 4 clusters\n",
        "AClus = AgglomerativeClustering(n_clusters=4)\n",
        "\n",
        "# Fit the model to the data\n",
        "AClus.fit(X)\n",
        "\n",
        "# Predict cluster labels\n",
        "labels = AClus.labels_\n",
        "\n",
        "# Add cluster labels to a copy of the dataframe\n",
        "df_with_2clusters = df.copy()\n",
        "df_with_2clusters['Cluster'] = labels\n",
        "\n",
        "df['Agglomerative Cluster K=4'] = labels"
      ],
      "metadata": {
        "id": "MzSYLud-psv4"
      },
      "execution_count": 109,
      "outputs": []
    },
    {
      "cell_type": "markdown",
      "source": [
        "## **Performance Measure for Agglomerative Clustering**"
      ],
      "metadata": {
        "id": "PQnU8cYi-Xgh"
      }
    },
    {
      "cell_type": "code",
      "source": [
        "#computing Rand Index for Agglomerative Clustering\n",
        "\n",
        "labels2 = df['Agglomerative Cluster K=2']\n",
        "labels4 = df['Agglomerative Cluster K=4']\n",
        "\n",
        "same_cluster_count = sum(labels2 == labels4)\n",
        "switched_labels_count = len(labels2) - same_cluster_count\n",
        "\n",
        "RI_Aclus = same_cluster_count / (same_cluster_count + switched_labels_count)"
      ],
      "metadata": {
        "id": "1OfK0JY_u15j"
      },
      "execution_count": 110,
      "outputs": []
    },
    {
      "cell_type": "markdown",
      "source": [
        "## **Final Comparison**"
      ],
      "metadata": {
        "id": "Q4ASwEJ4-jVC"
      }
    },
    {
      "cell_type": "code",
      "source": [
        "print(\"Computed Rand Index for K-means Clustering is: \", RI_Kmeans)\n",
        "print(\"Computed Rand Index for Agglomerated Clustering is: \", RI_Aclus)\n",
        "\n",
        "print(\"\\nSince K-means Clustering provides a much higher accuracy, thus it is a better approach\")"
      ],
      "metadata": {
        "colab": {
          "base_uri": "https://localhost:8080/"
        },
        "id": "VuS9P7Qp-jFr",
        "outputId": "b3167fd5-bb0f-4434-af08-933971b29211"
      },
      "execution_count": 111,
      "outputs": [
        {
          "output_type": "stream",
          "name": "stdout",
          "text": [
            "Computed Rand Index for K-means Clustering is:  0.8339010543390105\n",
            "Computed Rand Index for Agglomerated Clustering is:  0.1467964314679643\n",
            "\n",
            "Since K-means Clustering provides a much higher accuracy, thus it is a better approach\n"
          ]
        }
      ]
    }
  ]
}